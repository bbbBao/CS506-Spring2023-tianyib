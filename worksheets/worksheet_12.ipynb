{
 "cells": [
  {
   "attachments": {},
   "cell_type": "markdown",
   "metadata": {},
   "source": [
    "# Worksheet 12\n",
    "\n",
    "Name:  Tianyi Bao\n",
    "UID: U89641075\n",
    "\n",
    "### Topics\n",
    "\n",
    "- Naive Bayes\n",
    "- Model Evaluation\n",
    "\n",
    "### Naive Bayes\n",
    "\n",
    "| Attribute A | Attribute B | Attribute C | Class |\n",
    "|-------------|-------------|-------------|-------|\n",
    "| Yes         | Single      | High        | No    |\n",
    "| No          | Married     | Mid         | No    |\n",
    "| No          | Single      | Low         | No    |\n",
    "| Yes         | Married     | High        | No    |\n",
    "| No          | Divorced    | Mid         | Yes   |\n",
    "| No          | Married     | Low         | No    |\n",
    "| Yes         | Divorced    | High        | No    |\n",
    "| No          | Single      | Mid         | Yes   |\n",
    "| No          | Married     | Low         | No    |\n",
    "| No          | Single      | Mid         | Yes   |\n",
    "\n",
    "a) Compute the following probabilities:\n",
    "\n",
    "- P(Attribute A = Yes | Class = No)\n",
    "- P(Attribute B = Divorced | Class = Yes)\n",
    "- P(Attribute C = High | Class = No)\n",
    "- P(Attribute C = Mid | Class = Yes)"
   ]
  },
  {
   "attachments": {},
   "cell_type": "markdown",
   "metadata": {},
   "source": [
    "- P(Attribute A = Yes | Class = No) = 3/7\n",
    "- P(Attribute B = Divorced | Class = Yes) = 1/3\n",
    "- P(Attribute C = High | Class = No) = 3/7\n",
    "- P(Attribute C = Mid | Class = Yes) = 1"
   ]
  },
  {
   "cell_type": "markdown",
   "metadata": {},
   "source": [
    "b) Classify the following unseen records:\n",
    "\n",
    "- (Yes, Married, Mid)\n",
    "- (No, Divorced, High)\n",
    "- (No, Single, High)\n",
    "- (No, Divorced, Low)"
   ]
  },
  {
   "attachments": {},
   "cell_type": "markdown",
   "metadata": {},
   "source": [
    "\n",
    "- (Yes, Married, Mid) \n",
    "\n",
    "   P(X|Yes) = P(Yes|Yes)*P(Married|Yes)*P(Mid|Yes) = 0\n",
    "\n",
    "   P(X|No) = P(Yes|No)*P(Married|No)*P(Mid|No) = 3/7 * 4/7 * 1/7 > P(X|Yes)\n",
    "\n",
    "   predict class: No\n",
    "\n",
    "\n",
    "- (No, Divorced, High)\n",
    "\n",
    "   P(X|Yes) = P(No|Yes)*P(Divorced|Yes)*P(High|Yes) = 1 * 1/3 * 0 = 0\n",
    "\n",
    "   P(X|No) = P(No|No)*P(Divorced|No)*P(High|No) = 4/7 * 1/7 * 3/7 > P(X|Yes)\n",
    "\n",
    "   predict class: No\n",
    "\n",
    "\n",
    "- (No, Single, High)\n",
    "\n",
    "   P(X|Yes) = P(No|Yes)*P(Single|Yes)*P(High|Yes) = 1 * 2/3 * 0 = 0\n",
    "\n",
    "   P(X|No) = P(No|No)*P(Single|No)*P(High|No) = 4/7 * 2/7 * 3/7 > P(X|Yes)\n",
    "\n",
    "   predict class: No\n",
    "\n",
    "\n",
    "- (No, Divorced, Low)\n",
    "\n",
    "   P(X|Yes) = P(No|Yes)*P(Divorced|Yes)*P(Low|Yes) = 1 * 1/3 * 0 = 0\n",
    "\n",
    "   P(X|No) = P(No|No)*P(Divorced|No)*P(Low|No) = 4/7 * 1/7 * 3/7 > P(X|Yes)\n",
    "\n",
    "   predict class: No"
   ]
  },
  {
   "cell_type": "markdown",
   "metadata": {},
   "source": [
    "### Model Evaluation\n",
    "\n",
    "a) Write a function to generate the confusion matrix for a list of actual classes and a list of predicted classes"
   ]
  },
  {
   "cell_type": "code",
   "execution_count": 2,
   "metadata": {},
   "outputs": [
    {
     "name": "stdout",
     "output_type": "stream",
     "text": [
      "[[2 1]\n",
      " [3 4]]\n"
     ]
    }
   ],
   "source": [
    "import numpy as np\n",
    "\n",
    "actual_class = [\"Yes\", \"No\", \"No\", \"Yes\", \"No\", \"No\", \"Yes\", \"No\", \"No\", \"No\"]\n",
    "predicted_class = [\"Yes\", \"No\", \"Yes\", \"No\", \"No\", \"No\", \"Yes\", \"Yes\", \"Yes\", \"No\"]\n",
    "\n",
    "def confusion_matrix(actual, predicted):\n",
    "    TP, FN, FP, TN = 0,0,0,0\n",
    "    cm = []\n",
    "    for i in range(len(actual)):\n",
    "        if actual[i] =='Yes' and predicted[i] == 'Yes':\n",
    "            TP += 1\n",
    "        elif actual[i] == 'Yes' and predicted[i] == 'No':\n",
    "            FN += 1\n",
    "        elif actual[i] == 'No' and predicted[i] == 'No':\n",
    "            TN += 1\n",
    "        elif actual[i] == 'No' and predicted[i] == 'Yes':\n",
    "            FP += 1\n",
    "    cm = np.array([[TP, FN],[FP, TN]])\n",
    "\n",
    "    return cm\n",
    "\n",
    "print(confusion_matrix(actual_class, predicted_class))"
   ]
  },
  {
   "cell_type": "markdown",
   "metadata": {},
   "source": [
    "b) Assume you have the following Cost Matrix:\n",
    "\n",
    "|            | predicted = Y | predicted = N |\n",
    "|------------|---------------|---------------|\n",
    "| actual = Y |       -1      |       5       |\n",
    "| actual = N |        10     |       0       |\n",
    "\n",
    "What is the cost of the above classification?"
   ]
  },
  {
   "attachments": {},
   "cell_type": "markdown",
   "metadata": {},
   "source": [
    "-2 + 5 + 30 + 0 = 33"
   ]
  },
  {
   "cell_type": "markdown",
   "metadata": {},
   "source": [
    "c) Write a function that takes in the actual values, the predictions, and a cost matrix and outputs a cost. Test it on the above example."
   ]
  },
  {
   "cell_type": "code",
   "execution_count": 3,
   "metadata": {},
   "outputs": [
    {
     "name": "stdout",
     "output_type": "stream",
     "text": [
      "[[-1  5]\n",
      " [10  0]]\n",
      "[[2 1]\n",
      " [3 4]]\n",
      "33\n"
     ]
    }
   ],
   "source": [
    "def cost(actual, pred, cost_matrix):\n",
    "    cm = confusion_matrix(actual, pred)\n",
    "    print(cm)\n",
    "    cost = 0\n",
    "    for i in range(len(cm)):\n",
    "        for j in range(len(cm[0])):\n",
    "            cost  += cm[i][j] * cost_matrix[i][j]\n",
    "    return cost\n",
    "\n",
    "cost_matrix = np.array([[-1, 5], [10, 0]])\n",
    "\n",
    "print(cost_matrix)\n",
    "print(cost(actual_class, predicted_class, cost_matrix))"
   ]
  },
  {
   "attachments": {},
   "cell_type": "markdown",
   "metadata": {},
   "source": [
    "d) What is the difference between a testing set and a validation set?"
   ]
  },
  {
   "attachments": {},
   "cell_type": "markdown",
   "metadata": {},
   "source": [
    "The testing set is used to evaluate the final performance of the model after it is fully trained and the hyperparameters are fixed.\n",
    "The validation set is used during the training process to tune the hyperparameters of the model."
   ]
  },
  {
   "attachments": {},
   "cell_type": "markdown",
   "metadata": {},
   "source": [
    "e) What are some things you can do to handle the case where you have a highly imbalanced dataset (i.e. there are way more of one class than another). Describe both how you can provide better visibility into the failures of the model and how you can set your model training up for success."
   ]
  },
  {
   "attachments": {},
   "cell_type": "markdown",
   "metadata": {},
   "source": [
    "We can use matrics like confusion matrix to provide better visibility into the failures of the model. We should perform some hyperparameter tuning and try out different models in order to set our model training up for success. "
   ]
  }
 ],
 "metadata": {
  "kernelspec": {
   "display_name": "Python 3",
   "language": "python",
   "name": "python3"
  },
  "language_info": {
   "codemirror_mode": {
    "name": "ipython",
    "version": 3
   },
   "file_extension": ".py",
   "mimetype": "text/x-python",
   "name": "python",
   "nbconvert_exporter": "python",
   "pygments_lexer": "ipython3",
   "version": "3.11.0"
  },
  "orig_nbformat": 4,
  "vscode": {
   "interpreter": {
    "hash": "e7370f93d1d0cde622a1f8e1c04877d8463912d04d973331ad4851f04de6915a"
   }
  }
 },
 "nbformat": 4,
 "nbformat_minor": 2
}
